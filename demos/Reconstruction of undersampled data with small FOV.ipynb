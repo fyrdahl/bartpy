{
 "cells": [
  {
   "cell_type": "code",
   "execution_count": 1,
   "metadata": {},
   "outputs": [],
   "source": [
    "import numpy as np\n",
    "from matplotlib import pyplot as plt\n",
    "\n",
    "%matplotlib inline"
   ]
  },
  {
   "cell_type": "code",
   "execution_count": 4,
   "metadata": {},
   "outputs": [],
   "source": [
    "import bartpy.tools as bart\n",
    "from bartpy.utils import cfl"
   ]
  },
  {
   "cell_type": "code",
   "execution_count": 7,
   "metadata": {},
   "outputs": [
    {
     "ename": "TypeError",
     "evalue": "resize() missing 1 required positional argument: 'input'",
     "output_type": "error",
     "traceback": [
      "\u001b[0;31m---------------------------------------------------------------------------\u001b[0m",
      "\u001b[0;31mTypeError\u001b[0m                                 Traceback (most recent call last)",
      "\u001b[0;32m<ipython-input-7-ac6c8af14b88>\u001b[0m in \u001b[0;36m<module>\u001b[0;34m\u001b[0m\n\u001b[1;32m      1\u001b[0m \u001b[0msmallfov\u001b[0m \u001b[0;34m=\u001b[0m \u001b[0mcfl\u001b[0m\u001b[0;34m.\u001b[0m\u001b[0mreadcfl\u001b[0m\u001b[0;34m(\u001b[0m\u001b[0;34m'data/smallfov'\u001b[0m\u001b[0;34m)\u001b[0m\u001b[0;34m\u001b[0m\u001b[0;34m\u001b[0m\u001b[0m\n\u001b[0;32m----> 2\u001b[0;31m \u001b[0msmallfov\u001b[0m \u001b[0;34m=\u001b[0m \u001b[0mbart\u001b[0m\u001b[0;34m.\u001b[0m\u001b[0mresize\u001b[0m\u001b[0;34m(\u001b[0m\u001b[0;34m)\u001b[0m\u001b[0;34m\u001b[0m\u001b[0;34m\u001b[0m\u001b[0m\n\u001b[0m",
      "\u001b[0;31mTypeError\u001b[0m: resize() missing 1 required positional argument: 'input'"
     ]
    }
   ],
   "source": [
    "smallfov = cfl.readcfl('data/smallfov')\n",
    "smallfov = bart.resize()"
   ]
  },
  {
   "cell_type": "code",
   "execution_count": 8,
   "metadata": {},
   "outputs": [
    {
     "name": "stdout",
     "output_type": "stream",
     "text": [
      "Help on function resize in module bartpy.tools.tools:\n",
      "\n",
      "resize(input, c=None)\n",
      "    Resizes an array along dimensions to sizes by truncating or zero-padding.\n",
      "    \n",
      "        :param input array:\n",
      "        :param c bool: center\n",
      "\n"
     ]
    }
   ],
   "source": [
    "help(bart.resize)"
   ]
  },
  {
   "cell_type": "code",
   "execution_count": 10,
   "metadata": {},
   "outputs": [
    {
     "name": "stdout",
     "output_type": "stream",
     "text": [
      "\u001b[31mWARN: BART version is not reproducible.\r\n",
      "\u001b[0mname: resize, usage_str: \"dim1 size1 ... dimN sizeN <input> <output> \", help_str: \"Resizes an array along dimensions to sizes by truncating or zero-padding.\"\r\n",
      "positional arguments:\r\n",
      "{ true, \"ARG_TUPLE\", 2, \r\n",
      "\t{ OPT_UINT, 4, \"dim\" } \r\n",
      "\t{ OPT_UINT, 4, \"size\" } \r\n",
      "}\r\n",
      "{ true, \"ARG\", 1, { OPT_INFILE, 8, \"input\" } }\r\n",
      "{ true, \"ARG\", 1, { OPT_OUTFILE, 8, \"output\" } }\r\n",
      "options:\r\n",
      "{ \"c\", \"(null)\", false, OPT_SET, \"\", \"center\" }\r\n"
     ]
    }
   ],
   "source": [
    "!bart resize --interface"
   ]
  },
  {
   "cell_type": "code",
   "execution_count": null,
   "metadata": {},
   "outputs": [],
   "source": []
  }
 ],
 "metadata": {
  "kernelspec": {
   "display_name": "Python 3",
   "language": "python",
   "name": "python3"
  },
  "language_info": {
   "codemirror_mode": {
    "name": "ipython",
    "version": 3
   },
   "file_extension": ".py",
   "mimetype": "text/x-python",
   "name": "python",
   "nbconvert_exporter": "python",
   "pygments_lexer": "ipython3",
   "version": "3.7.6"
  }
 },
 "nbformat": 4,
 "nbformat_minor": 4
}
