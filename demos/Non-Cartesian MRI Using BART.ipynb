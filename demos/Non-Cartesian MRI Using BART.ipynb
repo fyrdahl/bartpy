{
 "cells": [
  {
   "cell_type": "code",
   "execution_count": 1,
   "metadata": {},
   "outputs": [],
   "source": [
    "import bartpy.tools as bart\n",
    "from matplotlib import pyplot as plt\n",
    "\n",
    "%matplotlib inline"
   ]
  },
  {
   "cell_type": "code",
   "execution_count": 2,
   "metadata": {},
   "outputs": [
    {
     "name": "stdout",
     "output_type": "stream",
     "text": [
      "/Users/malits/bart_work/bart/bart traj -x 512 -y 64 -r   output  \n"
     ]
    }
   ],
   "source": [
    "traj_rad = bart.traj(r=True, x=512, y=64)"
   ]
  },
  {
   "cell_type": "code",
   "execution_count": 3,
   "metadata": {},
   "outputs": [
    {
     "name": "stdout",
     "output_type": "stream",
     "text": [
      "/Users/malits/bart_work/bart/bart scale   0.5 input output  \n"
     ]
    }
   ],
   "source": [
    "traj_rad2 = bart.scale(traj_rad, 0.5)"
   ]
  },
  {
   "cell_type": "code",
   "execution_count": 4,
   "metadata": {},
   "outputs": [
    {
     "name": "stdout",
     "output_type": "stream",
     "text": [
      "/Users/malits/bart_work/bart/bart phantom -s 8 -k -t t  output  \n"
     ]
    }
   ],
   "source": [
    "ksp_sim = bart.phantom(k=True, s=8, t=traj_rad2)"
   ]
  },
  {
   "cell_type": "code",
   "execution_count": 5,
   "metadata": {},
   "outputs": [
    {
     "name": "stdout",
     "output_type": "stream",
     "text": [
      "/Users/malits/bart_work/bart/bart scale   0.6 input output  \n"
     ]
    }
   ],
   "source": [
    "trad_rad2 = bart.scale(traj_rad, 0.6)"
   ]
  },
  {
   "cell_type": "code",
   "execution_count": 6,
   "metadata": {},
   "outputs": [
    {
     "name": "stdout",
     "output_type": "stream",
     "text": [
      "/Users/malits/bart_work/bart/bart nufft -i -t   traj input output  \n"
     ]
    }
   ],
   "source": [
    "igrid = bart.nufft(traj_rad2, ksp_sim, i=True, t=True)"
   ]
  },
  {
   "cell_type": "code",
   "execution_count": 7,
   "metadata": {},
   "outputs": [
    {
     "name": "stdout",
     "output_type": "stream",
     "text": [
      "/Users/malits/bart_work/bart/bart rss   8 input output  \n"
     ]
    }
   ],
   "source": [
    "reco1 = bart.rss(igrid, 8)"
   ]
  },
  {
   "cell_type": "code",
   "execution_count": 8,
   "metadata": {},
   "outputs": [
    {
     "name": "stdout",
     "output_type": "stream",
     "text": [
      "/Users/malits/bart_work/bart/bart nufft -i -d 24:24:1 -t   traj input output  \n",
      "/Users/malits/bart_work/bart/bart fft -u   7 input output  \n"
     ]
    }
   ],
   "source": [
    "lowres_img = bart.nufft(traj_rad2, ksp_sim, i=True, d=[24,24,1], t=True)\n",
    "lowres_ksp = bart.fft(lowres_img, 7, u=True)"
   ]
  },
  {
   "cell_type": "code",
   "execution_count": 9,
   "metadata": {},
   "outputs": [
    {
     "name": "stdout",
     "output_type": "stream",
     "text": [
      "/Users/malits/bart_work/bart/bart resize -c  0 308 1 308 input output  \n"
     ]
    }
   ],
   "source": [
    "ksp_zerop = bart.resize(lowres_ksp, [0, 1], [308, 308], c=True)"
   ]
  },
  {
   "cell_type": "code",
   "execution_count": 10,
   "metadata": {},
   "outputs": [
    {
     "name": "stdout",
     "output_type": "stream",
     "text": [
      "/Users/malits/bart_work/bart/bart ecalib -m 1   kspace sensitivities  \n"
     ]
    }
   ],
   "source": [
    "sens = bart.ecalib(ksp_zerop, m=1)"
   ]
  },
  {
   "cell_type": "code",
   "execution_count": 11,
   "metadata": {},
   "outputs": [
    {
     "name": "stdout",
     "output_type": "stream",
     "text": [
      "/Users/malits/bart_work/bart/bart pics -r 0.001 -t t-S   kspace sensitivities output  \n"
     ]
    }
   ],
   "source": [
    "reco2 = bart.pics(ksp_sim, sens, S=True, r=0.001, t=traj_rad2)"
   ]
  },
  {
   "cell_type": "code",
   "execution_count": 15,
   "metadata": {},
   "outputs": [
    {
     "data": {
      "text/plain": [
       "(308, 308, 1, 8)"
      ]
     },
     "execution_count": 15,
     "metadata": {},
     "output_type": "execute_result"
    }
   ],
   "source": []
  },
  {
   "cell_type": "code",
   "execution_count": null,
   "metadata": {},
   "outputs": [],
   "source": []
  }
 ],
 "metadata": {
  "kernelspec": {
   "display_name": "Python 3",
   "language": "python",
   "name": "python3"
  },
  "language_info": {
   "codemirror_mode": {
    "name": "ipython",
    "version": 3
   },
   "file_extension": ".py",
   "mimetype": "text/x-python",
   "name": "python",
   "nbconvert_exporter": "python",
   "pygments_lexer": "ipython3",
   "version": "3.7.6"
  }
 },
 "nbformat": 4,
 "nbformat_minor": 4
}
