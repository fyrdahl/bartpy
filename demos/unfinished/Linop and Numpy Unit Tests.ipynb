{
 "cells": [
  {
   "cell_type": "markdown",
   "metadata": {},
   "source": [
    "# [Currently Broken] Linear Operators and Numpy\n",
    "\n",
    "This notebook serves as an introduction to the low-level Linear Operators at BART's core, and their interoperability with NumPy.\n",
    "\n",
    "_Work in progress_"
   ]
  },
  {
   "cell_type": "code",
   "execution_count": 1,
   "metadata": {},
   "outputs": [],
   "source": [
    "import bartpy.linops as linop\n",
    "import numpy as np"
   ]
  },
  {
   "cell_type": "code",
   "execution_count": 2,
   "metadata": {},
   "outputs": [],
   "source": [
    "def rmse(predicted, targets):\n",
    "    return np.sqrt(((predicted - targets)**2).mean())"
   ]
  },
  {
   "cell_type": "markdown",
   "metadata": {},
   "source": [
    "## Adding and Chaining Linear Operators"
   ]
  },
  {
   "cell_type": "markdown",
   "metadata": {},
   "source": [
    "This is a Python implementation of the `test_linop_plus` test from BART's unit tests"
   ]
  },
  {
   "cell_type": "code",
   "execution_count": 3,
   "metadata": {},
   "outputs": [],
   "source": [
    "dims = [8, 4, 3]\n",
    "val_a = [2]\n",
    "val_b = [3]"
   ]
  },
  {
   "cell_type": "code",
   "execution_count": 4,
   "metadata": {},
   "outputs": [],
   "source": [
    "diag_a = linop.ops.diag(dims, val_a, 0, dtype=\"c\")\n",
    "diag_b = linop.ops.diag(dims, val_b, 0, dtype=\"c\")\n",
    "\n",
    "plus = linop.plus(diag_a, diag_b)\n",
    "chain = linop.chain(diag_a, diag_b)\n",
    "\n",
    "diag2 = linop.ops.diag(dims, [5], 0, dtype=\"c\")"
   ]
  },
  {
   "cell_type": "code",
   "execution_count": 6,
   "metadata": {},
   "outputs": [
    {
     "data": {
      "text/plain": [
       "<Swig Object of type 'struct linop_s *' at 0x7feaf76509c0>"
      ]
     },
     "execution_count": 6,
     "metadata": {},
     "output_type": "execute_result"
    }
   ],
   "source": [
    "plus"
   ]
  },
  {
   "cell_type": "code",
   "execution_count": 15,
   "metadata": {},
   "outputs": [],
   "source": [
    "in_arr = np.random.rand(*dims).astype(np.complex64)"
   ]
  },
  {
   "cell_type": "code",
   "execution_count": 8,
   "metadata": {
    "collapsed": true
   },
   "outputs": [
    {
     "data": {
      "text/plain": [
       "array([[[0.47411301, 0.66895514, 0.13059285],\n",
       "        [0.04890489, 0.81980869, 0.5192271 ],\n",
       "        [0.34153732, 0.98001947, 0.07495294],\n",
       "        [0.9227478 , 0.5044459 , 0.9237432 ]],\n",
       "\n",
       "       [[0.88876325, 0.27038478, 0.14284916],\n",
       "        [0.0806871 , 0.2126998 , 0.68305473],\n",
       "        [0.7114657 , 0.85903635, 0.39904544],\n",
       "        [0.1025698 , 0.46970919, 0.69020986]],\n",
       "\n",
       "       [[0.66482164, 0.81446802, 0.72945508],\n",
       "        [0.33574518, 0.09903923, 0.6809777 ],\n",
       "        [0.23765911, 0.08087095, 0.70291868],\n",
       "        [0.33327898, 0.76212662, 0.61556646]],\n",
       "\n",
       "       [[0.11619012, 0.7058147 , 0.92763876],\n",
       "        [0.1058933 , 0.07786186, 0.28955928],\n",
       "        [0.8515559 , 0.96216324, 0.62122988],\n",
       "        [0.11742169, 0.4893073 , 0.06145283]],\n",
       "\n",
       "       [[0.16195736, 0.84152326, 0.7559869 ],\n",
       "        [0.92699606, 0.11939786, 0.09877204],\n",
       "        [0.87283357, 0.52142033, 0.78320807],\n",
       "        [0.77989079, 0.98244603, 0.3074326 ]],\n",
       "\n",
       "       [[0.50379836, 0.28311724, 0.96442274],\n",
       "        [0.16209995, 0.29567518, 0.17495719],\n",
       "        [0.13757314, 0.10820119, 0.82055803],\n",
       "        [0.09317081, 0.51240998, 0.83081058]],\n",
       "\n",
       "       [[0.20276278, 0.59774518, 0.62381106],\n",
       "        [0.93591896, 0.50120058, 0.49668723],\n",
       "        [0.36921092, 0.46242062, 0.46028204],\n",
       "        [0.07645454, 0.92272545, 0.44040095]],\n",
       "\n",
       "       [[0.21957917, 0.20669302, 0.16061525],\n",
       "        [0.99750055, 0.22407647, 0.91357961],\n",
       "        [0.29137932, 0.67140744, 0.28566804],\n",
       "        [0.98355846, 0.43752337, 0.0850988 ]]])"
      ]
     },
     "execution_count": 8,
     "metadata": {},
     "output_type": "execute_result"
    }
   ],
   "source": [
    "in_arr"
   ]
  },
  {
   "cell_type": "code",
   "execution_count": 9,
   "metadata": {},
   "outputs": [],
   "source": [
    "plus_res = linop.forward(plus, dims, in_arr)\n",
    "diag2_res = linop.forward(diag2, dims, in_arr)"
   ]
  },
  {
   "cell_type": "code",
   "execution_count": 10,
   "metadata": {},
   "outputs": [
    {
     "data": {
      "text/plain": [
       "(1.2377834e-07+0j)"
      ]
     },
     "execution_count": 10,
     "metadata": {},
     "output_type": "execute_result"
    }
   ],
   "source": [
    "rmse(plus_res, diag2_res)"
   ]
  },
  {
   "cell_type": "code",
   "execution_count": 16,
   "metadata": {},
   "outputs": [
    {
     "data": {
      "text/plain": [
       "array([[[5.3834543 +0.j, 4.899961  +0.j, 1.4443221 +0.j],\n",
       "        [0.8630782 +0.j, 4.106988  +0.j, 2.965546  +0.j],\n",
       "        [1.0674974 +0.j, 4.132847  +0.j, 3.7444    +0.j],\n",
       "        [2.869403  +0.j, 4.800941  +0.j, 5.489661  +0.j]],\n",
       "\n",
       "       [[2.2098045 +0.j, 0.98790604+0.j, 3.407065  +0.j],\n",
       "        [2.194885  +0.j, 2.1981945 +0.j, 0.30109644+0.j],\n",
       "        [0.18015097+0.j, 0.773182  +0.j, 0.16346256+0.j],\n",
       "        [1.7624352 +0.j, 4.218646  +0.j, 0.7001608 +0.j]],\n",
       "\n",
       "       [[3.7634387 +0.j, 0.6014083 +0.j, 0.6693722 +0.j],\n",
       "        [2.7864256 +0.j, 1.3169587 +0.j, 2.865797  +0.j],\n",
       "        [5.273308  +0.j, 2.4911258 +0.j, 2.2888794 +0.j],\n",
       "        [4.6170964 +0.j, 3.5940728 +0.j, 2.249579  +0.j]],\n",
       "\n",
       "       [[4.2474995 +0.j, 4.1377735 +0.j, 4.848623  +0.j],\n",
       "        [3.846669  +0.j, 3.0113058 +0.j, 0.4184027 +0.j],\n",
       "        [3.8873456 +0.j, 1.686843  +0.j, 2.718037  +0.j],\n",
       "        [0.07676101+0.j, 3.1270657 +0.j, 5.374764  +0.j]],\n",
       "\n",
       "       [[4.4580016 +0.j, 0.9177704 +0.j, 5.8826904 +0.j],\n",
       "        [1.111452  +0.j, 2.7203758 +0.j, 2.1953995 +0.j],\n",
       "        [4.82509   +0.j, 3.164451  +0.j, 1.4313264 +0.j],\n",
       "        [5.903296  +0.j, 0.2125121 +0.j, 3.1520362 +0.j]],\n",
       "\n",
       "       [[0.47663006+0.j, 0.30503267+0.j, 3.2364483 +0.j],\n",
       "        [3.152509  +0.j, 3.2600536 +0.j, 2.3331523 +0.j],\n",
       "        [2.6246781 +0.j, 1.8838022 +0.j, 2.279385  +0.j],\n",
       "        [0.5212418 +0.j, 4.309075  +0.j, 1.2770067 +0.j]],\n",
       "\n",
       "       [[0.68897015+0.j, 4.4488955 +0.j, 4.091987  +0.j],\n",
       "        [0.13361274+0.j, 3.9280934 +0.j, 2.5805564 +0.j],\n",
       "        [1.7637312 +0.j, 5.974758  +0.j, 5.19783   +0.j],\n",
       "        [0.34382385+0.j, 2.0757465 +0.j, 5.0064287 +0.j]],\n",
       "\n",
       "       [[5.5257106 +0.j, 0.44255155+0.j, 0.56524044+0.j],\n",
       "        [3.0462337 +0.j, 4.7035685 +0.j, 4.9378333 +0.j],\n",
       "        [0.7645898 +0.j, 1.0180426 +0.j, 5.905626  +0.j],\n",
       "        [1.5744269 +0.j, 4.646941  +0.j, 1.3868561 +0.j]]],\n",
       "      dtype=complex64)"
      ]
     },
     "execution_count": 16,
     "metadata": {},
     "output_type": "execute_result"
    }
   ],
   "source": [
    "chain_res = linop.forward(chain, dims, in_arr)\n",
    "chain_res"
   ]
  },
  {
   "cell_type": "markdown",
   "metadata": {},
   "source": [
    "## Stacking Linear Operators\n",
    "\n",
    "Python implemention of `test_linop_matrix`\n",
    "\n",
    "### TODO: Catch and debug dimensions issue"
   ]
  },
  {
   "cell_type": "code",
   "execution_count": 3,
   "metadata": {},
   "outputs": [],
   "source": [
    "dims1 = [8, 4, 2]\n",
    "dims2 = [8, 4, 2]\n",
    "\n",
    "val1a = [2]\n",
    "val1b = [3]\n",
    "\n",
    "diaga = linop.ops.diag(dims1, val1a, 0, 'c')\n",
    "diagb = linop.ops.diag(dims1, val1b, 0, 'c')\n",
    "\n",
    "stacked = linop.stack(2, 2, diaga, diagb)\n",
    "\n",
    "input_arr = np.ndarray(dims2, dtype=np.complex64).fill(1.j)\n"
   ]
  },
  {
   "cell_type": "code",
   "execution_count": 5,
   "metadata": {},
   "outputs": [
    {
     "data": {
      "text/plain": [
       "<function bartpy.linops.linop_swig.stack(D, E, a, b)>"
      ]
     },
     "execution_count": 5,
     "metadata": {},
     "output_type": "execute_result"
    }
   ],
   "source": [
    "linop.forward(stacked, [8, 4, 2])"
   ]
  },
  {
   "cell_type": "code",
   "execution_count": 9,
   "metadata": {},
   "outputs": [
    {
     "data": {
      "text/plain": [
       "<function bartpy.linops.linop.forward(op, dest_dims, src_arr)>"
      ]
     },
     "execution_count": 9,
     "metadata": {},
     "output_type": "execute_result"
    }
   ],
   "source": [
    "linop.forward"
   ]
  },
  {
   "cell_type": "code",
   "execution_count": null,
   "metadata": {},
   "outputs": [],
   "source": []
  }
 ],
 "metadata": {
  "kernelspec": {
   "display_name": "Python 3",
   "language": "python",
   "name": "python3"
  },
  "language_info": {
   "codemirror_mode": {
    "name": "ipython",
    "version": 3
   },
   "file_extension": ".py",
   "mimetype": "text/x-python",
   "name": "python",
   "nbconvert_exporter": "python",
   "pygments_lexer": "ipython3",
   "version": "3.7.6"
  }
 },
 "nbformat": 4,
 "nbformat_minor": 4
}
